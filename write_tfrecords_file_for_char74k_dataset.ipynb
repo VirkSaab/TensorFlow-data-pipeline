{
 "cells": [
  {
   "cell_type": "markdown",
   "metadata": {},
   "source": [
    "Author: Jitender Singh Virk ||\n",
    "Date created: 25 Dec 2017"
   ]
  },
  {
   "cell_type": "code",
   "execution_count": null,
   "metadata": {
    "collapsed": true
   },
   "outputs": [],
   "source": [
    "import os\n",
    "import tensorflow as tf\n",
    "import numpy as np\n",
    "import scipy.io as sio\n",
    "import pandas as pd\n",
    "import cv2"
   ]
  },
  {
   "cell_type": "code",
   "execution_count": null,
   "metadata": {
    "collapsed": true,
    "scrolled": true
   },
   "outputs": [],
   "source": [
    "# Get metaData of images\n",
    "#data_dir = \"D:\\\\Data_Warehouse\\\\L1636\\\\DataSets\\\\CHAR-74K\\\\English\\\\Img\\\\\"\n",
    "#names_dir = \"D:\\\\Data_Warehouse\\\\L1636\\\\DataSets\\\\CHAR-74K\\\\English\\\\names\\\\lists.mat\"\n",
    "#write_location = \"C:\\\\Users\\\\Virksaab\\\\Desktop\\AI\\\\datasets_for_code_in_repos\\\\char74k_dataset\\\\\"\n",
    "\n",
    "data_dir = \"/home/virk/Desktop/CHAR-74K/English/Img/\"\n",
    "names_dir = \"/home/virk/Desktop/CHAR-74K/English/names/lists.mat\"\n",
    "write_location = \"/home/virk/Desktop/AI/datasets_for_code_in_repos/char74k_dataset/\"\n",
    "\n",
    "file = sio.loadmat(names_dir)\n",
    "names = pd.DataFrame(file[\"list\"][0])\n",
    "# Pre-Feats\n",
    "allNames = names.ALLnames[0]\n",
    "# only taking good images\n",
    "#allNames = allNames[:7704]\n",
    "is_good = names.is_good[0]\n",
    "classNames = names.classnames[0]\n",
    "total_classes = names.NUMclasses[0][0][0]\n",
    "allLabels = names.ALLlabels[0]\n",
    "classLabels = names.classlabels[0]\n",
    "# Shuffle data before splitting\n",
    "for _ in range(10):\n",
    "    np.random.shuffle(allNames)\n",
    "\n",
    "# Train, Validate and Test split ratio\n",
    "train_eg = int(allNames.shape[0] * .70) - 2\n",
    "validate_eg = int(allNames.shape[0] * .85)\n",
    "test_eg = allNames.shape[0]\n",
    "total_classes\n",
    "#print(allNames[:20])"
   ]
  },
  {
   "cell_type": "code",
   "execution_count": null,
   "metadata": {
    "collapsed": true,
    "scrolled": true
   },
   "outputs": [],
   "source": [
    "# TRAINING SET\n",
    "image_data_train = {\"images\":[], \"labels\":[]}\n",
    "for imgName, label in zip(allNames[:train_eg], allLabels[:train_eg]):\n",
    "    labels_from_names = int(imgName.split(\"/\")[3][3:6]) - 1\n",
    "    img = cv2.imread(data_dir+imgName+\".png\")\n",
    "    height, width = img.shape[:2]\n",
    "    img = cv2.resize(img, ((width//width)*64, (height//height)*64), interpolation = cv2.INTER_CUBIC)\n",
    "    img = cv2.cvtColor(img, cv2.COLOR_BGR2RGB)\n",
    "    image_data_train[\"images\"].append(img)\n",
    "    image_data_train[\"labels\"].append(labels_from_names)\n",
    "print(\"Examples in train set =\", len(image_data_train['images']))\n",
    "print('single image dimensions =', image_data_train['images'][0].shape)"
   ]
  },
  {
   "cell_type": "code",
   "execution_count": null,
   "metadata": {
    "collapsed": true
   },
   "outputs": [],
   "source": [
    "# VALIDATE SET\n",
    "image_data_validate = {\"images\":[], \"labels\":[]}\n",
    "for imgName, label in zip(allNames[train_eg:validate_eg], allLabels[train_eg:validate_eg]):\n",
    "    labels_from_names = int(imgName.split(\"/\")[3][3:6]) - 1\n",
    "    img = cv2.imread(data_dir+imgName+\".png\")\n",
    "    height, width = img.shape[:2]\n",
    "    img = cv2.resize(img, ((width//width)*64, (height//height)*64), interpolation = cv2.INTER_CUBIC)\n",
    "    img = cv2.cvtColor(img, cv2.COLOR_BGR2RGB)\n",
    "    image_data_validate[\"images\"].append(img)\n",
    "    image_data_validate[\"labels\"].append(labels_from_names)\n",
    "print(\"Examples in validate set =\", len(image_data_validate['images']))\n",
    "print('single image dimensions =', image_data_validate['images'][0].shape)"
   ]
  },
  {
   "cell_type": "code",
   "execution_count": null,
   "metadata": {
    "collapsed": true
   },
   "outputs": [],
   "source": [
    "# TEST SET\n",
    "image_data_test = {\"images\":[], \"labels\":[]}\n",
    "for imgName, label in zip(allNames[validate_eg:], allLabels[validate_eg:]):\n",
    "    labels_from_names = int(imgName.split(\"/\")[3][3:6]) - 1\n",
    "    img = cv2.imread(data_dir+imgName+\".png\")\n",
    "    height, width = img.shape[:2]\n",
    "    img = cv2.resize(img, ((width//width)*64, (height//height)*64), interpolation = cv2.INTER_CUBIC)\n",
    "    img = cv2.cvtColor(img, cv2.COLOR_BGR2RGB)\n",
    "    image_data_test[\"images\"].append(img)\n",
    "    image_data_test[\"labels\"].append(labels_from_names)\n",
    "print(\"Examples in test set =\", len(image_data_test['images']))\n",
    "print('single image dimensions =', image_data_test['images'][0].shape)"
   ]
  },
  {
   "cell_type": "code",
   "execution_count": null,
   "metadata": {
    "collapsed": true
   },
   "outputs": [],
   "source": [
    "# Check dimensions\n",
    "len(image_data_train[\"images\"])+len(image_data_validate[\"images\"])+len(image_data_test[\"images\"]) == len(allNames) == len(image_data_train[\"labels\"])+len(image_data_validate[\"labels\"])+len(image_data_test[\"labels\"])"
   ]
  },
  {
   "cell_type": "code",
   "execution_count": null,
   "metadata": {
    "collapsed": true
   },
   "outputs": [],
   "source": [
    "# Convert data to TFRecords\n",
    "\n",
    "def _int64_feature(value):\n",
    "    return tf.train.Feature(int64_list=tf.train.Int64List(value=[value]))\n",
    "\n",
    "def _bytes_feature(value):\n",
    "    return tf.train.Feature(bytes_list=tf.train.BytesList(value=[value]))\n",
    "\n",
    "def convert_to(dataset, name):\n",
    "    \"\"\"Converts a dataset to TFRecords\"\"\"\n",
    "    images = dataset[\"images\"]\n",
    "    labels = dataset[\"labels\"]\n",
    "    \n",
    "    if len(images) != len(labels):\n",
    "        raise ValueError('number of images is not equal to the labels provided')\n",
    "    \n",
    "    num_examples = int(len(labels))\n",
    "    rows = images[0].shape[0]\n",
    "    cols = images[0].shape[1]\n",
    "    #depth = images[0].shape[2]\n",
    "        \n",
    "    filename = os.path.join(write_location+name+'.tfrecords')\n",
    "    print(\"writing\",filename)\n",
    "    writer = tf.python_io.TFRecordWriter(filename)\n",
    "    \n",
    "    for index in range(num_examples):\n",
    "        image_raw = images[index].tostring()\n",
    "        example = tf.train.Example(features=tf.train.Features(feature={\n",
    "            'height': _int64_feature(rows),\n",
    "            'width': _int64_feature(cols),\n",
    "            #'depth': _int64_feature(depth),\n",
    "            'label': _int64_feature(int(labels[index])),\n",
    "            'image_raw': _bytes_feature(image_raw)}))\n",
    "        writer.write(example.SerializeToString())\n",
    "    writer.close()\n",
    "    \n",
    "\n",
    "convert_to(image_data_train, 'train')\n",
    "convert_to(image_data_validate, 'validate')\n",
    "convert_to(image_data_test, 'test')\n",
    "print(\"DONE!\")"
   ]
  },
  {
   "cell_type": "markdown",
   "metadata": {
    "collapsed": true
   },
   "source": [
    "Copyright © 2017, Jitender Singh Virk\n",
    "\n",
    "Licensed under the Apache License, Version 2.0 (the \"License\");\n",
    "you may not use this file except in compliance with the License.\n",
    "You may obtain a copy of the License at\n",
    "\n",
    "    http://www.apache.org/licenses/LICENSE-2.0\n",
    "\n",
    "Unless required by applicable law or agreed to in writing, software\n",
    "distributed under the License is distributed on an \"AS IS\" BASIS,\n",
    "WITHOUT WARRANTIES OR CONDITIONS OF ANY KIND, either express or implied.\n",
    "See the License for the specific language governing permissions and\n",
    "limitations under the License."
   ]
  },
  {
   "cell_type": "code",
   "execution_count": null,
   "metadata": {
    "collapsed": true
   },
   "outputs": [],
   "source": []
  }
 ],
 "metadata": {
  "anaconda-cloud": {},
  "kernelspec": {
   "display_name": "Python 3",
   "language": "python",
   "name": "python3"
  },
  "language_info": {
   "codemirror_mode": {
    "name": "ipython",
    "version": 3
   },
   "file_extension": ".py",
   "mimetype": "text/x-python",
   "name": "python",
   "nbconvert_exporter": "python",
   "pygments_lexer": "ipython3",
   "version": "3.6.3"
  }
 },
 "nbformat": 4,
 "nbformat_minor": 1
}
